{
 "cells": [
  {
   "cell_type": "markdown",
   "id": "7b88efb4",
   "metadata": {},
   "source": [
    "# Question on Functions"
   ]
  },
  {
   "cell_type": "code",
   "execution_count": 3,
   "id": "09180230",
   "metadata": {},
   "outputs": [
    {
     "name": "stdout",
     "output_type": "stream",
     "text": [
      "Enter your total work time: 45\n",
      "Enter your base salary per week: 40\n",
      "We value your time, so we pay\n",
      "Your overtime pay per week is $1800.00 \n"
     ]
    }
   ],
   "source": [
    "##Writ a program that calculates the overtime pay using the following steps\n",
    "##Ask the user the total number of hours per week\n",
    "##Ak the user the base salary per week\n",
    "\n",
    "def intro():\n",
    "    print(\"We value your time, so we pay\")\n",
    "    \n",
    "def overtime_pay(hour, week):\n",
    "    result = hour * week\n",
    "    print(\"Your overtime pay per week is ${:.2f} \". format(result))\n",
    "    return result\n",
    "\n",
    "hour = float(input(\"Enter your total work time: \"))\n",
    "week = float(input(\"Enter your base salary per week: \"))\n",
    "\n",
    "def main():\n",
    "    intro()\n",
    "    result = overtime_pay(hour, week)\n",
    "    \n",
    "main()\n",
    "    "
   ]
  },
  {
   "cell_type": "markdown",
   "id": "d7209e03",
   "metadata": {},
   "source": [
    "# Question on List"
   ]
  },
  {
   "cell_type": "code",
   "execution_count": 9,
   "id": "2ae03394",
   "metadata": {},
   "outputs": [
    {
     "name": "stdout",
     "output_type": "stream",
     "text": [
      "lists of elements are:  [1.0, 2.0, 3.0, 4.0, 5.0, 6.0, 7.0, 8.0, 9.0, 10.0]\n"
     ]
    }
   ],
   "source": [
    "##A: Write a p10 float valuesrogram that requests the user to enter a list of 10 float values stored in variable name called mylist1(values need to be ordered)\n",
    "##User list comprehension to recreate a new list of the sme values from mylist1. The new list is called mylist2\n",
    "##Sort the values in mylist2\n",
    "\n",
    "\n",
    "mylist1 = []\n",
    "\n",
    "num_use = int(input(\"How many numbers do you want to enter: \"))\n",
    "for i in range(num_use):\n",
    "    element = float(input(\"Enter the element: \"))\n",
    "    mylist1.append(element)\n",
    "print(\"lists of elements are: \", mylist1)"
   ]
  },
  {
   "cell_type": "code",
   "execution_count": 2,
   "id": "531e69bd",
   "metadata": {},
   "outputs": [
    {
     "name": "stdout",
     "output_type": "stream",
     "text": [
      "enter the number of items you want to list: 10\n",
      "Enter the number: 1\n",
      "Enter the number: 2\n",
      "Enter the number: 3\n",
      "Enter the number: 4\n",
      "Enter the number: 5\n",
      "Enter the number: 6\n",
      "Enter the number: 7\n",
      "Enter the number: 8\n",
      "Enter the number: 9\n",
      "Enter the number: 10\n",
      "Your lists of numbers are:  [1.0, 2.0, 3.0, 4.0, 5.0, 6.0, 7.0, 8.0, 9.0, 10.0]\n"
     ]
    }
   ],
   "source": [
    "##using list compreshension\n",
    "num_of_items = int(input(\"enter the number of items you want to list: \"))\n",
    "\n",
    "mylist_2 = [float(input(\"Enter the number: \")) for i in range(num_of_items)]\n",
    "print(\"Your lists of numbers are: \", mylist_2)"
   ]
  },
  {
   "cell_type": "code",
   "execution_count": 3,
   "id": "72537173",
   "metadata": {},
   "outputs": [
    {
     "name": "stdout",
     "output_type": "stream",
     "text": [
      "The original mylist_2:  [1.0, 2.0, 3.0, 4.0, 5.0, 6.0, 7.0, 8.0, 9.0, 10.0]\n",
      "\n",
      "The sorted mylist_2 in descending order:  [10.0, 9.0, 8.0, 7.0, 6.0, 5.0, 4.0, 3.0, 2.0, 1.0]\n"
     ]
    }
   ],
   "source": [
    "#sort the values in mylist2\n",
    "print(\"The original mylist_2: \", mylist_2)\n",
    "print()\n",
    "mylist_2.sort(reverse=True)\n",
    "print(\"The sorted mylist_2 in descending order: \", mylist_2)"
   ]
  },
  {
   "cell_type": "markdown",
   "id": "e0cdc814",
   "metadata": {},
   "source": [
    "# Question on Dictionary"
   ]
  },
  {
   "cell_type": "code",
   "execution_count": 8,
   "id": "746afa9f",
   "metadata": {},
   "outputs": [
    {
     "name": "stdout",
     "output_type": "stream",
     "text": [
      "{'School': 'MTSU', 'Textbooks': 14, 'Level': 'Elementary', 'Hobby': 'Dancing', 'Height': '4.5inch', 'Food': 'Amala'}\n"
     ]
    }
   ],
   "source": [
    "##Write a program that creates a single dictionary consisting of the following key value pairs\n",
    "my_dict1 = {\"School\":\"MTSU\", \"Textbooks\": 14, \"Level\":\"Elementary\", \"Hobby\": \"Dancing\", \"Height\": \"4.5inch\", \"Food\":\"Amala\"}\n",
    "print(my_dict1)"
   ]
  },
  {
   "cell_type": "code",
   "execution_count": 9,
   "id": "0d532817",
   "metadata": {},
   "outputs": [
    {
     "name": "stdout",
     "output_type": "stream",
     "text": [
      "{'School': 'Olabisi Onabanjo University', 'Textbooks': 14, 'Level': 'Elementary', 'Hobby': 'Dancing', 'Height': '4.5inch', 'Food': 'Amala'}\n"
     ]
    }
   ],
   "source": [
    "##Update the dictionary with your credentials\n",
    "my_dict1[\"School\"] = \"Olabisi Onabanjo University\"\n",
    "print(my_dict1)"
   ]
  },
  {
   "cell_type": "code",
   "execution_count": 10,
   "id": "3f14dd38",
   "metadata": {},
   "outputs": [
    {
     "name": "stdout",
     "output_type": "stream",
     "text": [
      "{'School': 'Olabisi Onabanjo University', 'Textbooks': 14, 'Level': 'Elementary', 'Hobby': 'Dancing', 'Height': '4.5inch', 'Food': 'Amala', 'Is_location_USA': True, 'Is_graduated': 'No'}\n"
     ]
    }
   ],
   "source": [
    "##Add new key pair values \n",
    "my_dict1.update({\"Is_location_USA\": True, \"Is_graduated\" :\"No\"})\n",
    "print(my_dict1)"
   ]
  },
  {
   "cell_type": "code",
   "execution_count": 11,
   "id": "028668c5",
   "metadata": {},
   "outputs": [
    {
     "data": {
      "text/plain": [
       "{'School': 'Olabisi Onabanjo University',\n",
       " 'Textbooks': 14,\n",
       " 'Level': 'Elementary',\n",
       " 'Hobby': 'Dancing',\n",
       " 'Height': '4.5inch',\n",
       " 'Food': 'Amala',\n",
       " 'Is_location_USA': True,\n",
       " 'Is_graduated': 'No'}"
      ]
     },
     "execution_count": 11,
     "metadata": {},
     "output_type": "execute_result"
    }
   ],
   "source": [
    "## remove the key-value pair Hobby:dancing and delete last entry of the updated dictionary\n",
    "my_dict2= my_dict1.copy()\n",
    "my_dict2"
   ]
  },
  {
   "cell_type": "code",
   "execution_count": 12,
   "id": "9ffbfbdb",
   "metadata": {},
   "outputs": [
    {
     "data": {
      "text/plain": [
       "{'School': 'Olabisi Onabanjo University',\n",
       " 'Textbooks': 14,\n",
       " 'Level': 'Elementary',\n",
       " 'Height': '4.5inch',\n",
       " 'Food': 'Amala',\n",
       " 'Is_location_USA': True,\n",
       " 'Is_graduated': 'No'}"
      ]
     },
     "execution_count": 12,
     "metadata": {},
     "output_type": "execute_result"
    }
   ],
   "source": [
    "## remove the key-value pair Hobby:dancing and delete last entry of the updated dictionary\n",
    "my_dict2.pop(\"Hobby\")\n",
    "my_dict2\n",
    "\n"
   ]
  },
  {
   "cell_type": "code",
   "execution_count": 15,
   "id": "7b76300f",
   "metadata": {},
   "outputs": [
    {
     "data": {
      "text/plain": [
       "{'School': 'Olabisi Onabanjo University',\n",
       " 'Textbooks': 14,\n",
       " 'Level': 'Elementary',\n",
       " 'Height': '4.5inch',\n",
       " 'Food': 'Amala',\n",
       " 'Is_location_USA': True}"
      ]
     },
     "execution_count": 15,
     "metadata": {},
     "output_type": "execute_result"
    }
   ],
   "source": [
    "##delelte last entry of the updated dictinary.\n",
    "my_dict2.popitem()\n",
    "my_dict2"
   ]
  },
  {
   "cell_type": "markdown",
   "id": "53d6a658",
   "metadata": {},
   "source": [
    "# Numpy Question"
   ]
  },
  {
   "cell_type": "code",
   "execution_count": 2,
   "id": "2b8e3440",
   "metadata": {},
   "outputs": [],
   "source": [
    "import numpy as np"
   ]
  },
  {
   "cell_type": "code",
   "execution_count": 3,
   "id": "b7dbf109",
   "metadata": {},
   "outputs": [
    {
     "data": {
      "text/plain": [
       "array([[1., 1., 1., 1., 1., 1., 1., 1., 1., 1., 1.],\n",
       "       [1., 1., 1., 1., 1., 1., 1., 1., 1., 1., 1.],\n",
       "       [1., 1., 1., 1., 1., 1., 1., 1., 1., 1., 1.],\n",
       "       [1., 1., 1., 1., 1., 1., 1., 1., 1., 1., 1.],\n",
       "       [1., 1., 1., 1., 1., 1., 1., 1., 1., 1., 1.],\n",
       "       [1., 1., 1., 1., 1., 1., 1., 1., 1., 1., 1.],\n",
       "       [1., 1., 1., 1., 1., 1., 1., 1., 1., 1., 1.],\n",
       "       [1., 1., 1., 1., 1., 1., 1., 1., 1., 1., 1.],\n",
       "       [1., 1., 1., 1., 1., 1., 1., 1., 1., 1., 1.],\n",
       "       [1., 1., 1., 1., 1., 1., 1., 1., 1., 1., 1.],\n",
       "       [1., 1., 1., 1., 1., 1., 1., 1., 1., 1., 1.],\n",
       "       [1., 1., 1., 1., 1., 1., 1., 1., 1., 1., 1.],\n",
       "       [1., 1., 1., 1., 1., 1., 1., 1., 1., 1., 1.],\n",
       "       [1., 1., 1., 1., 1., 1., 1., 1., 1., 1., 1.],\n",
       "       [1., 1., 1., 1., 1., 1., 1., 1., 1., 1., 1.],\n",
       "       [1., 1., 1., 1., 1., 1., 1., 1., 1., 1., 1.],\n",
       "       [1., 1., 1., 1., 1., 1., 1., 1., 1., 1., 1.],\n",
       "       [1., 1., 1., 1., 1., 1., 1., 1., 1., 1., 1.],\n",
       "       [1., 1., 1., 1., 1., 1., 1., 1., 1., 1., 1.],\n",
       "       [1., 1., 1., 1., 1., 1., 1., 1., 1., 1., 1.]])"
      ]
     },
     "execution_count": 3,
     "metadata": {},
     "output_type": "execute_result"
    }
   ],
   "source": [
    "##Create an array of ones of size 20 by 11 called myarray1\n",
    "\n",
    "myarray1 = np.ones((20, 11), dtype = float)\n",
    "myarray1"
   ]
  },
  {
   "cell_type": "code",
   "execution_count": 4,
   "id": "f4000c77",
   "metadata": {},
   "outputs": [
    {
     "data": {
      "text/plain": [
       "array([[0.5, 0.5, 0.5, 0.5, 0.5, 0.5, 0.5, 0.5, 0.5, 0.5, 0.5],\n",
       "       [0.5, 0.5, 0.5, 0.5, 0.5, 0.5, 0.5, 0.5, 0.5, 0.5, 0.5],\n",
       "       [0.5, 0.5, 0.5, 0.5, 0.5, 0.5, 0.5, 0.5, 0.5, 0.5, 0.5],\n",
       "       [0.5, 0.5, 0.5, 0.5, 0.5, 0.5, 0.5, 0.5, 0.5, 0.5, 0.5],\n",
       "       [0.5, 0.5, 0.5, 0.5, 0.5, 0.5, 0.5, 0.5, 0.5, 0.5, 0.5],\n",
       "       [0.5, 0.5, 0.5, 0.5, 0.5, 0.5, 0.5, 0.5, 0.5, 0.5, 0.5],\n",
       "       [0.5, 0.5, 0.5, 0.5, 0.5, 0.5, 0.5, 0.5, 0.5, 0.5, 0.5],\n",
       "       [0.5, 0.5, 0.5, 0.5, 0.5, 0.5, 0.5, 0.5, 0.5, 0.5, 0.5],\n",
       "       [0.5, 0.5, 0.5, 0.5, 0.5, 0.5, 0.5, 0.5, 0.5, 0.5, 0.5],\n",
       "       [0.5, 0.5, 0.5, 0.5, 0.5, 0.5, 0.5, 0.5, 0.5, 0.5, 0.5],\n",
       "       [0.5, 0.5, 0.5, 0.5, 0.5, 0.5, 0.5, 0.5, 0.5, 0.5, 0.5],\n",
       "       [0.5, 0.5, 0.5, 0.5, 0.5, 0.5, 0.5, 0.5, 0.5, 0.5, 0.5],\n",
       "       [0.5, 0.5, 0.5, 0.5, 0.5, 0.5, 0.5, 0.5, 0.5, 0.5, 0.5],\n",
       "       [0.5, 0.5, 0.5, 0.5, 0.5, 0.5, 0.5, 0.5, 0.5, 0.5, 0.5],\n",
       "       [0.5, 0.5, 0.5, 0.5, 0.5, 0.5, 0.5, 0.5, 0.5, 0.5, 0.5],\n",
       "       [0.5, 0.5, 0.5, 0.5, 0.5, 0.5, 0.5, 0.5, 0.5, 0.5, 0.5],\n",
       "       [0.5, 0.5, 0.5, 0.5, 0.5, 0.5, 0.5, 0.5, 0.5, 0.5, 0.5],\n",
       "       [0.5, 0.5, 0.5, 0.5, 0.5, 0.5, 0.5, 0.5, 0.5, 0.5, 0.5],\n",
       "       [0.5, 0.5, 0.5, 0.5, 0.5, 0.5, 0.5, 0.5, 0.5, 0.5, 0.5],\n",
       "       [0.5, 0.5, 0.5, 0.5, 0.5, 0.5, 0.5, 0.5, 0.5, 0.5, 0.5]])"
      ]
     },
     "execution_count": 4,
     "metadata": {},
     "output_type": "execute_result"
    }
   ],
   "source": [
    "##Multiply scalar of 0.5 by array\n",
    "myarray1 = 0.5 * myarray1\n",
    "myarray1"
   ]
  },
  {
   "cell_type": "code",
   "execution_count": 5,
   "id": "dd8561a2",
   "metadata": {},
   "outputs": [
    {
     "data": {
      "text/plain": [
       "array([[ 0.5,  0.5,  0.5,  0.5,  0.5,  0.5,  0.5,  0.5,  0.5,  0.5,  0.5],\n",
       "       [ 0.5,  0.5,  0.5,  0.5,  0.5,  0.5,  0.5,  0.5,  0.5,  0.5,  0.5],\n",
       "       [ 0.5,  0.5,  0.5,  0.5,  0.5,  0.5,  0.5,  0.5,  0.5,  0.5,  0.5],\n",
       "       [ 0.5,  0.5,  0.5,  0.5,  0.5,  0.5,  0.5,  0.5,  0.5,  0.5,  0.5],\n",
       "       [ 0.5,  0.5,  0.5,  0.5,  0.5,  0.5,  0.5,  0.5,  0.5,  0.5,  0.5],\n",
       "       [ 0.5,  0.5,  0.5,  0.5,  0.5,  0.5,  0.5,  0.5,  0.5,  0.5,  0.5],\n",
       "       [10.5, 10.5, 10.5, 10.5, 10.5, 10.5, 10.5, 10.5, 10.5, 10.5, 10.5],\n",
       "       [ 0.5,  0.5,  0.5,  0.5,  0.5,  0.5,  0.5,  0.5,  0.5,  0.5,  0.5],\n",
       "       [ 0.5,  0.5,  0.5,  0.5,  0.5,  0.5,  0.5,  0.5,  0.5,  0.5,  0.5],\n",
       "       [ 0.5,  0.5,  0.5,  0.5,  0.5,  0.5,  0.5,  0.5,  0.5,  0.5,  0.5],\n",
       "       [ 0.5,  0.5,  0.5,  0.5,  0.5,  0.5,  0.5,  0.5,  0.5,  0.5,  0.5],\n",
       "       [ 0.5,  0.5,  0.5,  0.5,  0.5,  0.5,  0.5,  0.5,  0.5,  0.5,  0.5],\n",
       "       [ 0.5,  0.5,  0.5,  0.5,  0.5,  0.5,  0.5,  0.5,  0.5,  0.5,  0.5],\n",
       "       [ 0.5,  0.5,  0.5,  0.5,  0.5,  0.5,  0.5,  0.5,  0.5,  0.5,  0.5],\n",
       "       [ 0.5,  0.5,  0.5,  0.5,  0.5,  0.5,  0.5,  0.5,  0.5,  0.5,  0.5],\n",
       "       [ 0.5,  0.5,  0.5,  0.5,  0.5,  0.5,  0.5,  0.5,  0.5,  0.5,  0.5],\n",
       "       [ 0.5,  0.5,  0.5,  0.5,  0.5,  0.5,  0.5,  0.5,  0.5,  0.5,  0.5],\n",
       "       [ 0.5,  0.5,  0.5,  0.5,  0.5,  0.5,  0.5,  0.5,  0.5,  0.5,  0.5],\n",
       "       [ 0.5,  0.5,  0.5,  0.5,  0.5,  0.5,  0.5,  0.5,  0.5,  0.5,  0.5],\n",
       "       [ 0.5,  0.5,  0.5,  0.5,  0.5,  0.5,  0.5,  0.5,  0.5,  0.5,  0.5]])"
      ]
     },
     "execution_count": 5,
     "metadata": {},
     "output_type": "execute_result"
    }
   ],
   "source": [
    "##Update the 6th row with a value of 10.5\n",
    "\n",
    "myarray1[6, :] =10.5\n",
    "myarray1"
   ]
  },
  {
   "cell_type": "code",
   "execution_count": 6,
   "id": "6854997b",
   "metadata": {},
   "outputs": [],
   "source": [
    "##Update the 7th row with a value of 11.5"
   ]
  },
  {
   "cell_type": "code",
   "execution_count": 7,
   "id": "ef346993",
   "metadata": {},
   "outputs": [
    {
     "data": {
      "text/plain": [
       "array([[ 0.5,  0.5,  0.5,  0.5,  0.5,  0.5,  0.5,  0.5,  0.5,  0.5,  0.5],\n",
       "       [ 0.5,  0.5,  0.5,  0.5,  0.5,  0.5,  0.5,  0.5,  0.5,  0.5,  0.5],\n",
       "       [ 0.5,  0.5,  0.5,  0.5,  0.5,  0.5,  0.5,  0.5,  0.5,  0.5,  0.5],\n",
       "       [ 0.5,  0.5,  0.5,  0.5,  0.5,  0.5,  0.5,  0.5,  0.5,  0.5,  0.5],\n",
       "       [ 0.5,  0.5,  0.5,  0.5,  0.5,  0.5,  0.5,  0.5,  0.5,  0.5,  0.5],\n",
       "       [ 0.5,  0.5,  0.5,  0.5,  0.5,  0.5,  0.5,  0.5,  0.5,  0.5,  0.5],\n",
       "       [10.5, 10.5, 10.5, 10.5, 10.5, 10.5, 10.5, 10.5, 10.5, 10.5, 10.5],\n",
       "       [11.5, 11.5, 11.5, 11.5, 11.5, 11.5, 11.5, 11.5, 11.5, 11.5, 11.5],\n",
       "       [ 0.5,  0.5,  0.5,  0.5,  0.5,  0.5,  0.5,  0.5,  0.5,  0.5,  0.5],\n",
       "       [ 0.5,  0.5,  0.5,  0.5,  0.5,  0.5,  0.5,  0.5,  0.5,  0.5,  0.5],\n",
       "       [ 0.5,  0.5,  0.5,  0.5,  0.5,  0.5,  0.5,  0.5,  0.5,  0.5,  0.5],\n",
       "       [ 0.5,  0.5,  0.5,  0.5,  0.5,  0.5,  0.5,  0.5,  0.5,  0.5,  0.5],\n",
       "       [ 0.5,  0.5,  0.5,  0.5,  0.5,  0.5,  0.5,  0.5,  0.5,  0.5,  0.5],\n",
       "       [ 0.5,  0.5,  0.5,  0.5,  0.5,  0.5,  0.5,  0.5,  0.5,  0.5,  0.5],\n",
       "       [ 0.5,  0.5,  0.5,  0.5,  0.5,  0.5,  0.5,  0.5,  0.5,  0.5,  0.5],\n",
       "       [ 0.5,  0.5,  0.5,  0.5,  0.5,  0.5,  0.5,  0.5,  0.5,  0.5,  0.5],\n",
       "       [ 0.5,  0.5,  0.5,  0.5,  0.5,  0.5,  0.5,  0.5,  0.5,  0.5,  0.5],\n",
       "       [ 0.5,  0.5,  0.5,  0.5,  0.5,  0.5,  0.5,  0.5,  0.5,  0.5,  0.5],\n",
       "       [ 0.5,  0.5,  0.5,  0.5,  0.5,  0.5,  0.5,  0.5,  0.5,  0.5,  0.5],\n",
       "       [ 0.5,  0.5,  0.5,  0.5,  0.5,  0.5,  0.5,  0.5,  0.5,  0.5,  0.5]])"
      ]
     },
     "execution_count": 7,
     "metadata": {},
     "output_type": "execute_result"
    }
   ],
   "source": [
    "myarray1[7, :] = 11.5\n",
    "myarray1"
   ]
  },
  {
   "cell_type": "code",
   "execution_count": 79,
   "id": "6f5a7067",
   "metadata": {},
   "outputs": [
    {
     "data": {
      "text/plain": [
       "array([[ 9.5,  0.5,  0.5,  0.5,  0.5,  0.5,  0.5,  0.5,  0.5,  0.5,  0.5],\n",
       "       [ 9.5,  0.5,  0.5,  0.5,  0.5,  0.5,  0.5,  0.5,  0.5,  0.5,  0.5],\n",
       "       [ 9.5,  0.5,  0.5,  0.5,  0.5,  0.5,  0.5,  0.5,  0.5,  0.5,  0.5],\n",
       "       [ 9.5,  0.5,  0.5,  0.5,  0.5,  0.5,  0.5,  0.5,  0.5,  0.5,  0.5],\n",
       "       [ 9.5,  0.5,  0.5,  0.5,  0.5,  0.5,  0.5,  0.5,  0.5,  0.5,  0.5],\n",
       "       [ 9.5,  0.5,  0.5,  0.5,  0.5,  0.5,  0.5,  0.5,  0.5,  0.5,  0.5],\n",
       "       [ 9.5, 10.5, 10.5, 10.5, 10.5, 10.5, 10.5, 10.5, 10.5, 10.5, 10.5],\n",
       "       [ 9.5, 11.5, 11.5, 11.5, 11.5, 11.5, 11.5, 11.5, 11.5, 11.5, 11.5],\n",
       "       [ 9.5,  0.5,  0.5,  0.5,  0.5,  0.5,  0.5,  0.5,  0.5,  0.5,  0.5],\n",
       "       [ 9.5,  0.5,  0.5,  0.5,  0.5,  0.5,  0.5,  0.5,  0.5,  0.5,  0.5],\n",
       "       [ 9.5,  0.5,  0.5,  0.5,  0.5,  0.5,  0.5,  0.5,  0.5,  0.5,  0.5],\n",
       "       [ 9.5,  0.5,  0.5,  0.5,  0.5,  0.5,  0.5,  0.5,  0.5,  0.5,  0.5],\n",
       "       [ 9.5,  0.5,  0.5,  0.5,  0.5,  0.5,  0.5,  0.5,  0.5,  0.5,  0.5],\n",
       "       [ 9.5,  0.5,  0.5,  0.5,  0.5,  0.5,  0.5,  0.5,  0.5,  0.5,  0.5],\n",
       "       [ 9.5,  0.5,  0.5,  0.5,  0.5,  0.5,  0.5,  0.5,  0.5,  0.5,  0.5],\n",
       "       [ 9.5,  0.5,  0.5,  0.5,  0.5,  0.5,  0.5,  0.5,  0.5,  0.5,  0.5],\n",
       "       [ 9.5,  0.5,  0.5,  0.5,  0.5,  0.5,  0.5,  0.5,  0.5,  0.5,  0.5],\n",
       "       [ 9.5,  0.5,  0.5,  0.5,  0.5,  0.5,  0.5,  0.5,  0.5,  0.5,  0.5],\n",
       "       [ 9.5,  0.5,  0.5,  0.5,  0.5,  0.5,  0.5,  0.5,  0.5,  0.5,  0.5],\n",
       "       [ 9.5,  0.5,  0.5,  0.5,  0.5,  0.5,  0.5,  0.5,  0.5,  0.5,  0.5]])"
      ]
     },
     "execution_count": 79,
     "metadata": {},
     "output_type": "execute_result"
    }
   ],
   "source": [
    "##update the 1st column with a value of 9.5\n",
    "myarray1[:,0] = 9.5\n",
    "myarray1"
   ]
  },
  {
   "cell_type": "code",
   "execution_count": 10,
   "id": "2cd42907",
   "metadata": {},
   "outputs": [
    {
     "data": {
      "text/plain": [
       "array([[ 0.5,  0.5,  0.5,  0.5,  0.5,  0.5,  0.5,  0.5,  0.5,  0.5,  0.5],\n",
       "       [10.5, 10.5, 10.5, 10.5, 10.5, 10.5, 10.5, 10.5, 10.5, 10.5, 10.5],\n",
       "       [11.5, 11.5, 11.5, 11.5, 11.5, 11.5, 11.5, 11.5, 11.5, 11.5, 11.5],\n",
       "       [ 0.5,  0.5,  0.5,  0.5,  0.5,  0.5,  0.5,  0.5,  0.5,  0.5,  0.5],\n",
       "       [ 0.5,  0.5,  0.5,  0.5,  0.5,  0.5,  0.5,  0.5,  0.5,  0.5,  0.5],\n",
       "       [ 0.5,  0.5,  0.5,  0.5,  0.5,  0.5,  0.5,  0.5,  0.5,  0.5,  0.5]])"
      ]
     },
     "execution_count": 10,
     "metadata": {},
     "output_type": "execute_result"
    }
   ],
   "source": [
    "##Slice the 5th row to the 11th in myarray1\n",
    "myarray1_slice = myarray1[5:11, :]\n",
    "myarray1_slice"
   ]
  },
  {
   "cell_type": "code",
   "execution_count": 11,
   "id": "44cb9391",
   "metadata": {},
   "outputs": [
    {
     "data": {
      "text/plain": [
       "array([[ 0.5,  0.5,  0.5],\n",
       "       [ 0.5,  0.5,  0.5],\n",
       "       [ 0.5,  0.5,  0.5],\n",
       "       [ 0.5,  0.5,  0.5],\n",
       "       [ 0.5,  0.5,  0.5],\n",
       "       [ 0.5,  0.5,  0.5],\n",
       "       [10.5, 10.5, 10.5],\n",
       "       [11.5, 11.5, 11.5],\n",
       "       [ 0.5,  0.5,  0.5],\n",
       "       [ 0.5,  0.5,  0.5],\n",
       "       [ 0.5,  0.5,  0.5],\n",
       "       [ 0.5,  0.5,  0.5],\n",
       "       [ 0.5,  0.5,  0.5],\n",
       "       [ 0.5,  0.5,  0.5],\n",
       "       [ 0.5,  0.5,  0.5],\n",
       "       [ 0.5,  0.5,  0.5],\n",
       "       [ 0.5,  0.5,  0.5],\n",
       "       [ 0.5,  0.5,  0.5],\n",
       "       [ 0.5,  0.5,  0.5],\n",
       "       [ 0.5,  0.5,  0.5]])"
      ]
     },
     "execution_count": 11,
     "metadata": {},
     "output_type": "execute_result"
    }
   ],
   "source": [
    "##slice the 6th column to 9th column in myarray1\n",
    "myarray1_slice2 = myarray1[:, 6:9]\n",
    "myarray1_slice2"
   ]
  },
  {
   "cell_type": "code",
   "execution_count": null,
   "id": "0d29a068",
   "metadata": {},
   "outputs": [],
   "source": []
  }
 ],
 "metadata": {
  "kernelspec": {
   "display_name": "Python 3 (ipykernel)",
   "language": "python",
   "name": "python3"
  },
  "language_info": {
   "codemirror_mode": {
    "name": "ipython",
    "version": 3
   },
   "file_extension": ".py",
   "mimetype": "text/x-python",
   "name": "python",
   "nbconvert_exporter": "python",
   "pygments_lexer": "ipython3",
   "version": "3.10.6"
  },
  "vscode": {
   "interpreter": {
    "hash": "df95319d8ce4e1d89f5365ae10992bc1f65da593082b1d264e8f529830ec2f02"
   }
  }
 },
 "nbformat": 4,
 "nbformat_minor": 5
}
