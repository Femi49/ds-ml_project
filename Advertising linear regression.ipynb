{
 "cells": [
  {
   "cell_type": "code",
   "execution_count": 1,
   "id": "21cbb841",
   "metadata": {},
   "outputs": [],
   "source": [
    "import pandas as pd\n",
    "import numpy as np\n",
    "import matplotlib.pyplot as plt\n"
   ]
  },
  {
   "cell_type": "code",
   "execution_count": 2,
   "id": "c984487b",
   "metadata": {},
   "outputs": [
    {
     "data": {
      "text/html": [
       "<div>\n",
       "<style scoped>\n",
       "    .dataframe tbody tr th:only-of-type {\n",
       "        vertical-align: middle;\n",
       "    }\n",
       "\n",
       "    .dataframe tbody tr th {\n",
       "        vertical-align: top;\n",
       "    }\n",
       "\n",
       "    .dataframe thead th {\n",
       "        text-align: right;\n",
       "    }\n",
       "</style>\n",
       "<table border=\"1\" class=\"dataframe\">\n",
       "  <thead>\n",
       "    <tr style=\"text-align: right;\">\n",
       "      <th></th>\n",
       "      <th>TV</th>\n",
       "      <th>Radio</th>\n",
       "      <th>Newspaper</th>\n",
       "      <th>Sales</th>\n",
       "    </tr>\n",
       "  </thead>\n",
       "  <tbody>\n",
       "    <tr>\n",
       "      <th>0</th>\n",
       "      <td>230.1</td>\n",
       "      <td>37.8</td>\n",
       "      <td>69.2</td>\n",
       "      <td>22.1</td>\n",
       "    </tr>\n",
       "    <tr>\n",
       "      <th>1</th>\n",
       "      <td>44.5</td>\n",
       "      <td>39.3</td>\n",
       "      <td>45.1</td>\n",
       "      <td>10.4</td>\n",
       "    </tr>\n",
       "    <tr>\n",
       "      <th>2</th>\n",
       "      <td>17.2</td>\n",
       "      <td>45.9</td>\n",
       "      <td>69.3</td>\n",
       "      <td>12.0</td>\n",
       "    </tr>\n",
       "    <tr>\n",
       "      <th>3</th>\n",
       "      <td>151.5</td>\n",
       "      <td>41.3</td>\n",
       "      <td>58.5</td>\n",
       "      <td>16.5</td>\n",
       "    </tr>\n",
       "    <tr>\n",
       "      <th>4</th>\n",
       "      <td>180.8</td>\n",
       "      <td>10.8</td>\n",
       "      <td>58.4</td>\n",
       "      <td>17.9</td>\n",
       "    </tr>\n",
       "    <tr>\n",
       "      <th>...</th>\n",
       "      <td>...</td>\n",
       "      <td>...</td>\n",
       "      <td>...</td>\n",
       "      <td>...</td>\n",
       "    </tr>\n",
       "    <tr>\n",
       "      <th>195</th>\n",
       "      <td>38.2</td>\n",
       "      <td>3.7</td>\n",
       "      <td>13.8</td>\n",
       "      <td>7.6</td>\n",
       "    </tr>\n",
       "    <tr>\n",
       "      <th>196</th>\n",
       "      <td>94.2</td>\n",
       "      <td>4.9</td>\n",
       "      <td>8.1</td>\n",
       "      <td>14.0</td>\n",
       "    </tr>\n",
       "    <tr>\n",
       "      <th>197</th>\n",
       "      <td>177.0</td>\n",
       "      <td>9.3</td>\n",
       "      <td>6.4</td>\n",
       "      <td>14.8</td>\n",
       "    </tr>\n",
       "    <tr>\n",
       "      <th>198</th>\n",
       "      <td>283.6</td>\n",
       "      <td>42.0</td>\n",
       "      <td>66.2</td>\n",
       "      <td>25.5</td>\n",
       "    </tr>\n",
       "    <tr>\n",
       "      <th>199</th>\n",
       "      <td>232.1</td>\n",
       "      <td>8.6</td>\n",
       "      <td>8.7</td>\n",
       "      <td>18.4</td>\n",
       "    </tr>\n",
       "  </tbody>\n",
       "</table>\n",
       "<p>200 rows × 4 columns</p>\n",
       "</div>"
      ],
      "text/plain": [
       "        TV  Radio  Newspaper  Sales\n",
       "0    230.1   37.8       69.2   22.1\n",
       "1     44.5   39.3       45.1   10.4\n",
       "2     17.2   45.9       69.3   12.0\n",
       "3    151.5   41.3       58.5   16.5\n",
       "4    180.8   10.8       58.4   17.9\n",
       "..     ...    ...        ...    ...\n",
       "195   38.2    3.7       13.8    7.6\n",
       "196   94.2    4.9        8.1   14.0\n",
       "197  177.0    9.3        6.4   14.8\n",
       "198  283.6   42.0       66.2   25.5\n",
       "199  232.1    8.6        8.7   18.4\n",
       "\n",
       "[200 rows x 4 columns]"
      ]
     },
     "execution_count": 2,
     "metadata": {},
     "output_type": "execute_result"
    }
   ],
   "source": [
    "data = pd.read_csv('advertising.csv')\n",
    "data.head()\n",
    "\n",
    "X_labels = ['TV','Radio']\n",
    "\n",
    "X_data = data[X_labels]\n",
    "Y_data = data['Sales']\n",
    "data\n"
   ]
  },
  {
   "cell_type": "code",
   "execution_count": 3,
   "id": "cd643f8f",
   "metadata": {},
   "outputs": [
    {
     "data": {
      "text/plain": [
       "((200, 2), (200,))"
      ]
     },
     "execution_count": 3,
     "metadata": {},
     "output_type": "execute_result"
    }
   ],
   "source": [
    "X_data.shape, Y_data.shape"
   ]
  },
  {
   "cell_type": "code",
   "execution_count": 4,
   "id": "7ed06e1f",
   "metadata": {},
   "outputs": [
    {
     "data": {
      "text/plain": [
       "((160, 2), (40, 2), (160,), (40,))"
      ]
     },
     "execution_count": 4,
     "metadata": {},
     "output_type": "execute_result"
    }
   ],
   "source": [
    "##spli data into train and test \n",
    "from sklearn.model_selection import train_test_split\n",
    "X_train, X_test, Y_train, Y_test = train_test_split(X_data, Y_data, test_size = 0.2)\n",
    "X_train.shape, X_test.shape, Y_train.shape, Y_test.shape"
   ]
  },
  {
   "cell_type": "code",
   "execution_count": 5,
   "id": "b51b6384",
   "metadata": {},
   "outputs": [],
   "source": [
    "##linear regression\n",
    "from sklearn.linear_model import LinearRegression\n",
    "lm = LinearRegression()\n",
    "model = lm.fit(X_train, Y_train)"
   ]
  },
  {
   "cell_type": "code",
   "execution_count": 6,
   "id": "2b8d28da",
   "metadata": {},
   "outputs": [
    {
     "name": "stdout",
     "output_type": "stream",
     "text": [
      "B0:  4.376730365136108\n",
      "B1:  [0.05483979 0.11072805]\n"
     ]
    }
   ],
   "source": [
    "print('B0: ', model.intercept_)\n",
    "print('B1: ', model.coef_)"
   ]
  },
  {
   "cell_type": "code",
   "execution_count": 7,
   "id": "0afc530e",
   "metadata": {},
   "outputs": [],
   "source": [
    "# Model eq : Sales = 4.63 + 0.054 * TV + 0.107 * radio"
   ]
  },
  {
   "cell_type": "code",
   "execution_count": 8,
   "id": "2c2bc87f",
   "metadata": {},
   "outputs": [
    {
     "name": "stderr",
     "output_type": "stream",
     "text": [
      "C:\\Users\\USER\\AppData\\Local\\Programs\\Python\\Python310\\lib\\site-packages\\sklearn\\base.py:450: UserWarning: X does not have valid feature names, but LinearRegression was fitted with feature names\n",
      "  warnings.warn(\n"
     ]
    },
    {
     "data": {
      "text/plain": [
       "array([26.36507085])"
      ]
     },
     "execution_count": 8,
     "metadata": {},
     "output_type": "execute_result"
    }
   ],
   "source": [
    "test = [[300, 50]]\n",
    "model.predict(test)"
   ]
  },
  {
   "cell_type": "code",
   "execution_count": 9,
   "id": "5eea5018",
   "metadata": {
    "scrolled": false
   },
   "outputs": [
    {
     "name": "stdout",
     "output_type": "stream",
     "text": [
      "first 20 prdicted:  [24.65067329 10.56514338 24.97647077 16.40843012 23.54486063 21.14140089\n",
      " 13.1387433  18.16669055 22.17760832  9.52173738  7.67722413  8.08987663\n",
      " 10.1423387  17.41782881  8.59892008 13.5938407  19.21617765 21.6000311\n",
      "  6.11124052 15.60062166]\n",
      "\n",
      "first 20 Original:  [23.8 13.7 27.  17.2 20.7 20.  13.2 16.  22.2  8.   7.6  8.7  8.7 18.\n",
      "  8.5 12.2 20.7 20.9  7.3 16.7]\n"
     ]
    }
   ],
   "source": [
    "#compute training accuracy\n",
    "train_pred = model.predict(X_train)\n",
    "print('first 20 prdicted: ', train_pred[:20])\n",
    "print()\n",
    "print('first 20 Original: ', Y_train[:20].values)"
   ]
  },
  {
   "cell_type": "code",
   "execution_count": 10,
   "id": "242a37e7",
   "metadata": {},
   "outputs": [
    {
     "name": "stdout",
     "output_type": "stream",
     "text": [
      "Model accuracy on training data:  0.898292683263231\n",
      "Model accuracy on test data:  0.8702048874685541\n"
     ]
    }
   ],
   "source": [
    "##raining and Test Accuracy\n",
    "from sklearn.metrics import r2_score\n",
    "\n",
    "test_pred = model.predict(X_test)\n",
    "print('Model accuracy on training data: ', r2_score(train_pred, Y_train.values))\n",
    "print('Model accuracy on test data: ', r2_score(test_pred, Y_test.values))"
   ]
  },
  {
   "cell_type": "markdown",
   "id": "dc445c5b",
   "metadata": {},
   "source": [
    "### Cross Validation"
   ]
  },
  {
   "cell_type": "code",
   "execution_count": 11,
   "id": "e10540d8",
   "metadata": {},
   "outputs": [],
   "source": [
    "##To evvaluate how well a model fitts\n",
    "##To avoid overfitting\n",
    "##to select the best hyper parrameter"
   ]
  },
  {
   "cell_type": "markdown",
   "id": "284c0433",
   "metadata": {},
   "source": [
    "#### Approach to Cross validation"
   ]
  },
  {
   "cell_type": "code",
   "execution_count": 12,
   "id": "ffaca9ea",
   "metadata": {},
   "outputs": [],
   "source": [
    "##Split your data into k equal folds. where k can be any number usually between 5 and 10\n",
    "##Stack k-1 folds together\n",
    "##Buld nodel on any k-1 folds and evaluate on the remaining one\n",
    "##Do this for all the folds\n",
    "##Store accuracy. You can calculate average to see the average accuracy"
   ]
  },
  {
   "cell_type": "code",
   "execution_count": 13,
   "id": "c0a429aa",
   "metadata": {},
   "outputs": [],
   "source": [
    "model = lm.fit(X_train, Y_train) #training"
   ]
  },
  {
   "cell_type": "code",
   "execution_count": 14,
   "id": "8e77083c",
   "metadata": {},
   "outputs": [],
   "source": [
    "from sklearn.model_selection import cross_val_score\n",
    "scores = cross_val_score(lm, X_data, Y_data, cv = 5)"
   ]
  },
  {
   "cell_type": "code",
   "execution_count": 15,
   "id": "ec21831e",
   "metadata": {},
   "outputs": [
    {
     "name": "stdout",
     "output_type": "stream",
     "text": [
      "Mean model accuracy:  0.8958535029714983\n"
     ]
    }
   ],
   "source": [
    "print('Mean model accuracy: ', scores.mean())"
   ]
  },
  {
   "cell_type": "markdown",
   "id": "866d830e",
   "metadata": {},
   "source": [
    "### Plotting Model line"
   ]
  },
  {
   "cell_type": "code",
   "execution_count": 16,
   "id": "6a33ea32",
   "metadata": {},
   "outputs": [],
   "source": [
    "x1 = X_data['TV']\n",
    "x_lst = []\n",
    "for i in x1:\n",
    "    x_lst.append([i])\n",
    "x_lst\n",
    "\n",
    "lm1 = LinearRegression()\n",
    "model2 = lm1.fit(x_lst, Y_data)\n",
    "pred = model2.predict(x_lst)"
   ]
  },
  {
   "cell_type": "code",
   "execution_count": 17,
   "id": "42602834",
   "metadata": {},
   "outputs": [
    {
     "data": {
      "text/plain": [
       "Text(0.5, 1.0, 'Tv vs Sales')"
      ]
     },
     "execution_count": 17,
     "metadata": {},
     "output_type": "execute_result"
    },
    {
     "data": {
      "image/png": "[encoded data removed]",
      "text/plain": [
       "<Figure size 720x360 with 1 Axes>"
      ]
     },
     "metadata": {
      "needs_background": "light"
     },
     "output_type": "display_data"
    }
   ],
   "source": [
    "plt.figure(figsize=(10, 5))\n",
    "plt.plot(x1, Y_data, 'o')\n",
    "plt.plot(x1, pred, 'r')\n",
    "plt.xlabel('Television cost')\n",
    "plt.ylabel('Sales')\n",
    "plt.title('Tv vs Sales')"
   ]
  },
  {
   "cell_type": "code",
   "execution_count": null,
   "id": "0f8b9b90",
   "metadata": {},
   "outputs": [],
   "source": []
  }
 ],
 "metadata": {
  "kernelspec": {
   "display_name": "Python 3 (ipykernel)",
   "language": "python",
   "name": "python3"
  },
  "language_info": {
   "codemirror_mode": {
    "name": "ipython",
    "version": 3
   },
   "file_extension": ".py",
   "mimetype": "text/x-python",
   "name": "python",
   "nbconvert_exporter": "python",
   "pygments_lexer": "ipython3",
   "version": "3.10.6"
  }
 },
 "nbformat": 4,
 "nbformat_minor": 5
}
